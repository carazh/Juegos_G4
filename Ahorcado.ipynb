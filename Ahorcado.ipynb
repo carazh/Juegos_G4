{
 "cells": [
  {
   "cell_type": "markdown",
   "metadata": {},
   "source": [
    "------- JUEGO AHORCADO ----------"
   ]
  },
  {
   "cell_type": "markdown",
   "metadata": {},
   "source": [
    "--------- REGLAS -------\n",
    "\n",
    "Empieza por seleccionar una palabra secreta para que el jugador adivinador intente adivinar. Puedes crear una lista de palabras.\n",
    "\n",
    "Inicializa el tablero de juego con guiones bajos (\"_\") para representar las letras no adivinadas.\n",
    "\n",
    "Utiliza un bucle while para permitir que el jugador adivinador haga múltiples intentos hasta que adivine la palabra o se agoten los intentos.\n",
    "\n",
    "Verifica si la letra adivinada por el jugador está en la palabra secreta y actualicen el tablero en consecuencia.\n",
    "\n",
    "Lleva un seguimiento de las letras adivinadas y los intentos fallidos.\n",
    "\n",
    "Determina las condiciones de victoria y derrota del juego, y salgan del bucle cuando se cumplan estas condiciones."
   ]
  },
  {
   "cell_type": "markdown",
   "metadata": {},
   "source": [
    "1. Empieza por seleccionar una palabra secreta para que el jugador adivinador intente adivinar. Puedes crear una lista de palabras."
   ]
  },
  {
   "cell_type": "code",
   "execution_count": null,
   "metadata": {},
   "outputs": [],
   "source": [
    "#Creamos una lista de palabras, de la que saldrá la palabra secreta.\n",
    "lista_palabras = ['gato','leon','raton', 'sapo'] \n",
    "print(lista_palabras)\n",
    "palabra = 'gato'\n"
   ]
  },
  {
   "cell_type": "markdown",
   "metadata": {},
   "source": [
    "2. Inicializa el tablero de juego con guiones bajos (\"_\") para representar las letras no adivinadas."
   ]
  },
  {
   "cell_type": "code",
   "execution_count": null,
   "metadata": {},
   "outputs": [],
   "source": [
    "#Hacemos que la palabra secreta 'aparezca' anonimizada\n",
    "palabra_adivinar = '*'*len(palabra)\n",
    "print(palabra_adivinar)\n"
   ]
  },
  {
   "cell_type": "markdown",
   "metadata": {},
   "source": [
    "3. Utiliza un bucle while para permitir que el jugador adivinador haga múltiples intentos hasta que adivine la palabra o se agoten los intentos."
   ]
  },
  {
   "cell_type": "code",
   "execution_count": null,
   "metadata": {},
   "outputs": [],
   "source": [
    "#establecemos el numero de intentos\n",
    "intentos = 10\n",
    "#petición al usuario para que nos de una letra\n",
    "adivinar = input(\"Escribe una letra para intentar adivinar\")\n",
    "print(adivinar)\n",
    "#ver si la letra que nos ha dicho está en la palabra secreta. True = si \n",
    "adivinar in palabra\n",
    "\n",
    "\n",
    "\n"
   ]
  },
  {
   "cell_type": "code",
   "execution_count": null,
   "metadata": {},
   "outputs": [],
   "source": [
    "\n",
    "palabra= 'gato'\n",
    "lista_letras = list(palabra)\n",
    "print(lista_letras)\n"
   ]
  },
  {
   "cell_type": "code",
   "execution_count": null,
   "metadata": {},
   "outputs": [],
   "source": [
    "intentos = 10\n",
    " \n",
    "while intentos_restantes > 0:\n",
    "    intentos_restantes = input(\"Escribe una letra para intentar adivinar\")\n",
    "    if (adivinar in palabra == True):\n",
    "         print(\"correcto\")\n",
    "else: \n",
    "     print('has fallado')"
   ]
  },
  {
   "cell_type": "code",
   "execution_count": null,
   "metadata": {},
   "outputs": [],
   "source": [
    "palabra_secreta = \"gato\"\n",
    "intentos_restantes = 6 \n",
    "palabra_adivinar = '*'*len(palabra)\n",
    "\n",
    "while intentos_restantes >0:\n",
    "    adivinar = input(\"adivina la palabra\")\n",
    "    if adivinar.lower() in palabra_secreta:\n",
    "        print(\"acertaste una letra\")\n",
    "        print(palabra_adivinar)\n",
    "        \n",
    "    else: \n",
    "        print(\"oh fallaste\")    \n",
    "\n",
    "    intentos_restantes = intentos_restantes -1"
   ]
  },
  {
   "cell_type": "markdown",
   "metadata": {},
   "source": [
    "IF adivinar == cualquier letra de la palabra secreta\n",
    "print (adivinar)"
   ]
  },
  {
   "cell_type": "code",
   "execution_count": null,
   "metadata": {},
   "outputs": [],
   "source": [
    "palabra_adivinar = '*'*len(palabra)\n",
    "print(palabra_adivinar)"
   ]
  },
  {
   "cell_type": "code",
   "execution_count": null,
   "metadata": {},
   "outputs": [],
   "source": [
    "#prueba carmen\n",
    "\n",
    "palabra_secreta = \"gato\"\n",
    "lista_secreta = list(palabra_secreta)\n",
    "#print(\"Esta es la lista de elementos de la palabra secreta\",lista_secreta)\n",
    "intentos_restantes = 1 \n",
    "tablero = '*'*len(lista_secreta)\n",
    "\n",
    "#mientras no se agoten los intentos. \n",
    "while intentos_restantes > 0:\n",
    "    #para que el usuario ponga una letra. el ptoblema aqui era que en vez de letra adivinada que es la letra del imput. Poniamos adivinar que no es nada\n",
    "    letra_adivinada = input(\"adivina la palabra\")\n",
    "    if letra_adivinada.lower() in lista_secreta:\n",
    "            for adivinar in lista_secreta:\n",
    "                #print(f\"¡correcto! la letra '{letra_adivinada}' esta en la palabra.\")\n",
    "                print(letra_adivinada)\n",
    "                #print(tablero)\n",
    "                       \n",
    "    else: \n",
    "            print(\"oh fallaste\")    \n",
    "        \n",
    "\n",
    "    intentos_restantes = intentos_restantes -1"
   ]
  },
  {
   "cell_type": "code",
   "execution_count": null,
   "metadata": {},
   "outputs": [],
   "source": [
    "#prueba mirella. La que esta bien.\n",
    "\n",
    "palabra_secreta = \"gato\"\n",
    "lista_secreta = list(palabra_secreta)\n",
    "#print(\"Esta es la lista de elementos de la palabra secreta\", lista_secreta)\n",
    "intentos_restantes = 6\n",
    "tablero = '*'*len(lista_secreta)\n",
    "#crear lista tablero\n",
    "lista_tablero = list(tablero)\n",
    "\n",
    "#mientras no se agoten los intentos. \n",
    "while intentos_restantes > 0:\n",
    "    #para que el usuario ponga una letra. el ptoblema aqui era que en vez de letra adivinada que es la letra del imput. Poniamos adivinar que no es nada\n",
    "    letra_adivinada = input(\"adivina la palabra\")\n",
    "\n",
    "    if letra_adivinada.lower() in lista_secreta:\n",
    "            print(f\"¡correcto! la letra '{letra_adivinada}' esta en la palabra.\")\n",
    "#almacenamos posicion de la letra introducida \n",
    "            posicion_letra = lista_secreta.index(letra_adivinada)\n",
    "#guardamos la letra adivinada en lista tablero en su posicion            \n",
    "            lista_tablero[posicion_letra] = letra_adivinada\n",
    "            print(lista_tablero)\n",
    "                       \n",
    "    else: \n",
    "            print(\"oh fallaste\")    \n",
    "        \n",
    "\n",
    "    intentos_restantes = intentos_restantes -1\n",
    "    print(f\"te quedan '{intentos_restantes}'intentos\")\n",
    "    # if palabra secreta == palabra usuario romper el bucle (break)\n",
    "\n",
    " "
   ]
  },
  {
   "cell_type": "code",
   "execution_count": null,
   "metadata": {},
   "outputs": [],
   "source": [
    "#prueba carmen y mireya 30/09. \n",
    "\n",
    "palabra_secreta = \"gato\"\n",
    "lista_secreta = list(palabra_secreta)\n",
    "#print(\"Esta es la lista de elementos de la palabra secreta\", lista_secreta)\n",
    "intentos_restantes = 5\n",
    "tablero = '*'*len(lista_secreta)\n",
    "#crear lista tablero\n",
    "lista_tablero = list(tablero)\n",
    "\n",
    "#mientras no se agoten los intentos. \n",
    "while intentos_restantes > 0:\n",
    "    #para que el usuario ponga una letra. el ptoblema aqui era que en vez de letra adivinada que es la letra del imput. Poniamos adivinar que no es nada\n",
    "    letra_adivinada = input(\"adivina la palabra\")\n",
    "\n",
    "    if letra_adivinada.lower() in lista_secreta:\n",
    "            print(f\"¡correcto! la letra '{letra_adivinada}' esta en la palabra.\")\n",
    "            print(f\"te quedan '{intentos_restantes}'intentos para adivinar la palabra\")\n",
    "            #almacenamos posicion de la letra introducida \n",
    "            posicion_letra = lista_secreta.index(letra_adivinada)\n",
    "            #guardamos la letra adivinada en lista tablero en su posicion            \n",
    "            lista_tablero[posicion_letra] = letra_adivinada\n",
    "            print(lista_tablero)\n",
    "    elif len(lista_tablero) == len(palabra_secreta) :\n",
    "            print(f\"enhorabuena has acertado la pabra secreta\") \n",
    "            break     \n",
    "    else: \n",
    "            print(\"oh fallaste\")    \n",
    "        \n",
    "\n",
    "    intentos_restantes = intentos_restantes -1\n",
    "    #print(f\"te quedan '{intentos_restantes}'intentos, no has logrado adivinar la palabra\")\n"
   ]
  },
  {
   "cell_type": "markdown",
   "metadata": {},
   "source": [
    "if palabrasecreta = desvelada \n",
    "    print \"enhorabuena has ganado el juego\"\n",
    "else \n",
    "    print \"lo sentimos te has quedado sin intentos\""
   ]
  },
  {
   "cell_type": "code",
   "execution_count": null,
   "metadata": {},
   "outputs": [],
   "source": [
    "#prueba carmen y mireya 30/09. \n",
    "\n",
    "palabra_secreta = \"gato\"\n",
    "lista_secreta = list(palabra_secreta)\n",
    "#print(\"Esta es la lista de elementos de la palabra secreta\", lista_secreta)\n",
    "intentos_restantes = 5\n",
    "tablero = '*'*len(lista_secreta)\n",
    "#crear lista tablero\n",
    "lista_tablero = list(tablero)\n",
    "\n",
    "#mientras no se agoten los intentos. \n",
    "while intentos_restantes > 0:\n",
    "    #para que el usuario ponga una letra. el ptoblema aqui era que en vez de letra adivinada que es la letra del imput. Poniamos adivinar que no es nada\n",
    "    letra_adivinada = input(\"adivina la palabra\")\n",
    "    if letra_adivinada.lower() in lista_secreta:\n",
    "            print(f\"¡correcto! la letra '{letra_adivinada}' está en la palabra.Te quedan '{intentos_restantes}'intentos para acertar. {lista_tablero}\")\n",
    "            #almacenamos posicion de la letra introducida \n",
    "            posicion_letra = lista_secreta.index(letra_adivinada)\n",
    "            #guardamos la letra adivinada en lista tablero en su posicion            \n",
    "            lista_tablero[posicion_letra] = letra_adivinada\n",
    "            #print(lista_tablero)\n",
    "    elif son_iguales = (lista_tablero == palabra_secreta) :\n",
    "            print(f\"enhorabuena has acertado la pabra secreta\") \n",
    "            print(\"-----------ha pasado por el elif------------\")     \n",
    "    else: \n",
    "            print(f\"oh fallaste la letra '{letra_adivinada}' NO está en la palabra. Te quedan '{intentos_restantes}'intentos para acertar\")    \n",
    "        \n",
    "\n",
    "    intentos_restantes = intentos_restantes -1\n",
    "    #print(f\"te quedan '{intentos_restantes}'intentos, no has logrado adivinar la palabra\")"
   ]
  },
  {
   "cell_type": "code",
   "execution_count": 25,
   "metadata": {},
   "outputs": [
    {
     "name": "stdout",
     "output_type": "stream",
     "text": [
      "No has acertado pero puedes seguir intentando\n",
      "No has acertado pero puedes seguir intentando\n",
      "No has acertado pero puedes seguir intentando\n",
      "No has acertado pero puedes seguir intentando\n",
      "No has acertado pero puedes seguir intentando\n"
     ]
    }
   ],
   "source": [
    "palabra_secreta = \"gato\"\n",
    "lista_secreta = list(palabra_secreta)\n",
    "tablero = '*'*len(lista_secreta)\n",
    "lista_tablero = list(tablero)\n",
    "intentos_restantes = 5\n",
    "while intentos_restantes > 0:\n",
    "    letra_adivinada = input(\"adivina la palabra\")\n",
    "    son_iguales = lista_secreta == lista_tablero\n",
    "    #Es\n",
    "    if letra_adivinada.lower() in lista_secreta and son_iguales == True:\n",
    "        print(\"has acertado se acabo el juego\")\n",
    "    elif son_iguales == False and intentos_restantes > 0:\n",
    "        print(\"No has acertado pero puedes seguir intentando\")\n",
    "    else:\n",
    "        print(\"No has acertado y no te quedan intentos\")\n",
    "    intentos_restantes = intentos_restantes -1"
   ]
  },
  {
   "cell_type": "code",
   "execution_count": 1,
   "metadata": {},
   "outputs": [
    {
     "name": "stdout",
     "output_type": "stream",
     "text": [
      "¡correcto! la letra 'g' esta en la palabra.\n",
      "['g', '*', '*', '*']\n",
      "te quedan '5'intentos\n",
      "¡correcto! la letra 'a' esta en la palabra.\n",
      "['g', 'a', '*', '*']\n",
      "te quedan '4'intentos\n",
      "¡correcto! la letra 't' esta en la palabra.\n",
      "['g', 'a', 't', '*']\n",
      "te quedan '3'intentos\n",
      "¡correcto! la letra 'o' esta en la palabra.\n",
      "['g', 'a', 't', 'o']\n",
      "te quedan '2'intentos\n",
      "ha terminado el juego has adivinado la palabra secreta, era  gato\n"
     ]
    }
   ],
   "source": [
    "#prueba mirella. para trastear con la pista de cesar \n",
    "\n",
    "palabra_secreta = \"gato\"\n",
    "lista_secreta = list(palabra_secreta)\n",
    "#print(\"Esta es la lista de elementos de la palabra secreta\", lista_secreta)\n",
    "intentos_restantes = 6\n",
    "tablero = '*'*len(lista_secreta)\n",
    "#crear lista tablero\n",
    "lista_tablero = list(tablero)\n",
    "\n",
    "#mientras no se agoten los intentos. \n",
    "while intentos_restantes > 0:\n",
    "    #para que el usuario ponga una letra. el ptoblema aqui era que en vez de letra adivinada que es la letra del imput. Poniamos adivinar que no es nada\n",
    "    letra_adivinada = input(\"adivina la palabra\")\n",
    "\n",
    "    if letra_adivinada.lower() in lista_secreta:\n",
    "            print(f\"¡correcto! la letra '{letra_adivinada}' esta en la palabra.\")\n",
    "#almacenamos posicion de la letra introducida \n",
    "            posicion_letra = lista_secreta.index(letra_adivinada)\n",
    "#guardamos la letra adivinada en lista tablero en su posicion            \n",
    "            lista_tablero[posicion_letra] = letra_adivinada\n",
    "            print(lista_tablero)\n",
    "                       \n",
    "    else: \n",
    "            print(\"oh fallaste\")    \n",
    "        \n",
    "\n",
    "    intentos_restantes = intentos_restantes -1\n",
    "    print(f\"te quedan '{intentos_restantes}'intentos\")\n",
    "        #DUDA! No esta haciendo esta parte. ¿por que? \n",
    "    if lista_secreta == lista_tablero:\n",
    "           print(f\"ha terminado el juego has adivinado la palabra secreta, era  {palabra_secreta}\")\n",
    "           break "
   ]
  },
  {
   "cell_type": "code",
   "execution_count": 4,
   "metadata": {},
   "outputs": [
    {
     "name": "stdout",
     "output_type": "stream",
     "text": [
      "¡correcto! la letra 'g' esta en la palabra.\n",
      "['g', '*', '*', '*']\n",
      "te quedan '5'intentos\n",
      "¡correcto! la letra 'a' esta en la palabra.\n",
      "['g', 'a', '*', '*']\n",
      "te quedan '4'intentos\n",
      "¡correcto! la letra 't' esta en la palabra.\n",
      "['g', 'a', 't', '*']\n",
      "te quedan '3'intentos\n",
      "¡correcto! la letra 'o' esta en la palabra.\n",
      "['g', 'a', 't', 'o']\n",
      "te quedan '2'intentos\n",
      "ha terminado el juego has adivinado la palabra secreta, era  gato\n",
      "Enhorabuena has ganado, la palabra secreta, era gato\n"
     ]
    }
   ],
   "source": [
    "#prueba mirella. para trastear con la pista de cesar \n",
    "\n",
    "palabra_secreta = \"gato\"\n",
    "lista_secreta = list(palabra_secreta)\n",
    "#print(\"Esta es la lista de elementos de la palabra secreta\", lista_secreta)\n",
    "intentos_restantes = 6\n",
    "tablero = '*'*len(lista_secreta)\n",
    "#crear lista tablero\n",
    "lista_tablero = list(tablero)\n",
    "\n",
    "#mientras no se agoten los intentos. \n",
    "while intentos_restantes > 0:\n",
    "    #para que el usuario ponga una letra. el ptoblema aqui era que en vez de letra adivinada que es la letra del imput. Poniamos adivinar que no es nada\n",
    "    letra_adivinada = input(\"adivina la palabra\")\n",
    "\n",
    "    if letra_adivinada.lower() in lista_secreta:\n",
    "            print(f\"¡correcto! la letra '{letra_adivinada}' esta en la palabra.\")\n",
    "#almacenamos posicion de la letra introducida \n",
    "            posicion_letra = lista_secreta.index(letra_adivinada)\n",
    "#guardamos la letra adivinada en lista tablero en su posicion            \n",
    "            lista_tablero[posicion_letra] = letra_adivinada\n",
    "            print(lista_tablero)\n",
    "                       \n",
    "    else: \n",
    "            print(\"oh fallaste\")    \n",
    "        \n",
    "\n",
    "    intentos_restantes = intentos_restantes -1\n",
    "    print(f\"te quedan '{intentos_restantes}'intentos\")\n",
    "        #DUDA! No esta haciendo esta parte. ¿por que? \n",
    "    if lista_secreta == lista_tablero:\n",
    "           print(f\"ha terminado el juego has adivinado la palabra secreta, era  {palabra_secreta}\")\n",
    "           print(f\"Enhorabuena has ganado, la palabra secreta, era {palabra_secreta}\")\n",
    "           break "
   ]
  },
  {
   "cell_type": "code",
   "execution_count": 6,
   "metadata": {},
   "outputs": [
    {
     "name": "stdout",
     "output_type": "stream",
     "text": [
      "¡correcto! la letra 'g' esta en la palabra.\n",
      "['g', '*', '*', '*']\n",
      "oh fallaste\n",
      "te quedan '5'intentos\n",
      "¡correcto! la letra 'g' esta en la palabra.\n",
      "['g', '*', '*', '*']\n",
      "oh fallaste\n",
      "te quedan '4'intentos\n",
      "¡correcto! la letra 'a' esta en la palabra.\n",
      "['g', 'a', '*', '*']\n",
      "¡correcto! la letra 't' esta en la palabra.\n",
      "['g', 'a', 't', '*']\n",
      "oh fallaste\n",
      "te quedan '3'intentos\n",
      "¡correcto! la letra 'o' esta en la palabra.\n",
      "['g', 'a', 't', 'o']\n",
      "Enhorabuena has ganado, la palabra secreta era gato !!!\n"
     ]
    }
   ],
   "source": [
    "#prueba mirella y Carmen terminada y modificada\n",
    "\n",
    "palabra_secreta = \"gato\"\n",
    "lista_secreta = list(palabra_secreta)\n",
    "#print(\"Esta es la lista de elementos de la palabra secreta\", lista_secreta)\n",
    "intentos_restantes = 6\n",
    "tablero = '*'*len(lista_secreta)\n",
    "#crear lista tablero\n",
    "lista_tablero = list(tablero)\n",
    "\n",
    "#mientras no se agoten los intentos. \n",
    "while intentos_restantes > 0:\n",
    "    #para que el usuario ponga una letra. el ptoblema aqui era que en vez de letra adivinada que es la letra del imput. Poniamos adivinar que no es nada\n",
    "    letra_adivinada = input(\"adivina la palabra\")\n",
    "\n",
    "    if letra_adivinada.lower() in lista_secreta:\n",
    "            print(f\"¡correcto! la letra '{letra_adivinada}' esta en la palabra.\")\n",
    "#almacenamos posicion de la letra introducida \n",
    "            posicion_letra = lista_secreta.index(letra_adivinada)\n",
    "#guardamos la letra adivinada en lista tablero en su posicion            \n",
    "            lista_tablero[posicion_letra] = letra_adivinada\n",
    "            print(lista_tablero)\n",
    "                       \n",
    "    else: \n",
    "            intentos_restantes = intentos_restantes -1\n",
    "            print(\"oh fallaste\")    \n",
    "            print(f\"te quedan '{intentos_restantes}'intentos\")\n",
    "        \n",
    "\n",
    "\n",
    "        #DUDA! No esta haciendo esta parte. ¿por que? \n",
    "    if lista_secreta == lista_tablero:\n",
    "           print(f\"Enhorabuena has ganado, la palabra secreta era {palabra_secreta} !!!\")\n",
    "           break "
   ]
  }
 ],
 "metadata": {
  "kernelspec": {
   "display_name": "base",
   "language": "python",
   "name": "python3"
  },
  "language_info": {
   "codemirror_mode": {
    "name": "ipython",
    "version": 3
   },
   "file_extension": ".py",
   "mimetype": "text/x-python",
   "name": "python",
   "nbconvert_exporter": "python",
   "pygments_lexer": "ipython3",
   "version": "3.8.10"
  }
 },
 "nbformat": 4,
 "nbformat_minor": 2
}
