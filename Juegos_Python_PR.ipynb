{
 "cells": [
  {
   "cell_type": "markdown",
   "metadata": {},
   "source": [
    "# Preguntas y Respuestas\n",
    "\n",
    "\n",
    "- Reglas del Juego de \"Preguntas y Respuestas de Geografía\":\n",
    "    - El juego consiste en hacer preguntas de geografía y que el jugador adivine la respuesta correcta.\n",
    "    \n",
    "    - Cada pregunta tiene una respuesta única y correcta.\n",
    "\n",
    "    - El jugador tiene un número limitado de intentos para responder correctamente a cada pregunta.\n",
    "\n",
    "    - El juego sigue hasta que el jugador responda incorrectamente 3 de veces o haya respondido 5 preguntas correctamente.\n",
    "\n",
    "\n",
    "- Pistas para las alumnas:\n",
    "\n",
    "    1. Comienza creando un diccionario que contenga preguntas de geografía como claves y respuestas como valores.\n",
    "\n",
    "    2. Implementa una función para seleccionar una pregunta aleatoria del diccionario.\n",
    "\n",
    "    3. Utiliza un bucle `while` para hacer preguntas de geografía hasta que el jugador responda un número específico de preguntas correctamente o alcance un número máximo de respuestas incorrectas.\n",
    "\n",
    "    4. Dentro del bucle, presenta la pregunta al jugador y permita que ingresen sus respuestas.\n",
    "\n",
    "    5. Lleva un seguimiento del número de preguntas realizadas y el número de respuestas correctas.\n",
    "\n",
    "    6. Determina las condiciones de victoria y derrota del juego y sal del bucle cuando se cumplan estas condiciones."
   ]
  },
  {
   "cell_type": "code",
   "execution_count": 1,
   "metadata": {},
   "outputs": [],
   "source": [
    "import random"
   ]
  },
  {
   "cell_type": "code",
   "execution_count": 2,
   "metadata": {},
   "outputs": [
    {
     "name": "stdout",
     "output_type": "stream",
     "text": [
      "¿Cuál es la montaña más alta de España?\n",
      "¡Tu respuesta es correcta! Tienes 1 acierto/s.\n",
      "¿Cuál es la isla más grande del mundo?\n",
      "¡Tu respuesta es correcta! Tienes 2 acierto/s.\n",
      "¿Cuál es la cordillera de montañas más larga del mundo?\n",
      "¡Esa respuesta no es correcta, sigue intentándolo! Tienes 1 fallos/s.\n",
      "Cuál es el río más largo del mundo?\n",
      "¡Tu respuesta es correcta! Tienes 3 acierto/s.\n",
      "¿Cuál es la ciudad más poblada del mundo?\n",
      "¡Esa respuesta no es correcta, sigue intentándolo! Tienes 2 fallos/s.\n",
      "¿Cuál es el país más grande del mundo por superficie?\n",
      "¡Tu respuesta es correcta! Tienes 4 acierto/s.\n",
      "¿En qué país hay un mayor número de pirámides?\n",
      "¡Tu respuesta es correcta! Tienes 5 acierto/s.\n",
      "¡FELICIDADES! ¡HAS GANADO!\n"
     ]
    }
   ],
   "source": [
    "#Se crea diccionario con clave: preguntas, valor: respuestas.\n",
    "preguntas_respuestas= {\"¿Cuál es la ciudad más poblada del mundo?\": \"Tokio\", \n",
    "                       \"¿Cuál es el desierto más grande del mundo?\": \"Sahara\",\n",
    "                       \"¿Cuál es la montaña más alta de España?\": \"Teide\",\n",
    "                       \"¿En qué país hay un mayor número de pirámides?\": \"Sudan\",\n",
    "                       \"¿Cuál es la cordillera de montañas más larga del mundo?\": \"Los Andes\",\n",
    "                       \"¿Cuál es la isla más grande del mundo?\": \"Groenlandia\",\n",
    "                       \"¿Cuál es el país más grande del mundo por superficie?\": \"Rusia\",\n",
    "                       \"¿Cuál es la capital de Brasil?\": \"Brasilia\",\n",
    "                       \"Cuál es el río más largo del mundo?\": \"Nilo\",\n",
    "                       \"¿Cuál es la montaña más alta del planeta?\": \"Everest\"}\n",
    "\n",
    "#Se crean variables con contadores y límites de aciertos y fallos.\n",
    "contador_aciertos = 0\n",
    "contador_fallos = 0\n",
    "limite_aciertos = 5\n",
    "limite_fallos = 3\n",
    "#Se crea un bucle while True para que el código se ejecute hasta que se cumplan las condiciones para que el juego se termine.\n",
    "while True:\n",
    "    #Se crea variable con lista de keys del diccionario (las preguntas) que se generarán de manera aleatoria.\n",
    "    preguntas_clave = list(preguntas_respuestas.keys())\n",
    "    #Se crea bucle while para la variable pregunta_clave que genera preguntas aleatorias usando un random.choice.\n",
    "    while preguntas_clave:\n",
    "        pregunta_aleatoria = random.choice(preguntas_clave)\n",
    "        #Se hace un print de la pregunta aleatoria para verla en pantalla.\n",
    "        print(pregunta_aleatoria)\n",
    "        #Se borra la pregunta aleatoria que se acaba de generar de preguntas_clave con un remove(), de ahí que antes se pasara a lista\n",
    "        #para que la pregunta no se repita justo despues. \n",
    "        #Se siguen generando preguntas aleatorias con el bucle.\n",
    "        preguntas_clave.remove(pregunta_aleatoria)\n",
    "        #Se le pide a la usuaria que ingrese su respuesta.\n",
    "        respuesta_usuaria = input(\"Ingresa tu respuesta: \")\n",
    "        #Se introduce una condición para comprobar los aciertos y los fallos. \n",
    "        #El strip() y el lower() son código defensivo para que no genere un fallo en el caso de que la usuaria introduzca caracteres que no \n",
    "        #coincidan con la respuesta.\n",
    "        #Si la respuesta de la usuaria se corresponde con el valor del diccionario para la pregunta aleatoria generada, el contador de aciertos suma 1.\n",
    "        if respuesta_usuaria.strip().lower() == preguntas_respuestas[pregunta_aleatoria].lower():\n",
    "            contador_aciertos += 1\n",
    "            print(f\"¡Tu respuesta es correcta! Tienes {contador_aciertos} acierto/s.\")\n",
    "        #Si no se corresponde, se suma 1 al contador de fallos.\n",
    "        else:\n",
    "            contador_fallos += 1\n",
    "            print(f\"¡Esa respuesta no es correcta, sigue intentándolo! Tienes {contador_fallos} fallos/s.\")\n",
    "        #Se introduce una condición para informar a la usuaria de que ha ganado o perdido según las oportunidades que tiene para jugar.\n",
    "        if contador_aciertos == limite_aciertos:\n",
    "            print(f\"¡FELICIDADES! ¡HAS GANADO!\")\n",
    "            break\n",
    "        elif contador_fallos == limite_fallos:\n",
    "            print(f\"¡Oh no! Has perdido. ¡Inténtalo de nuevo!\")\n",
    "            break\n",
    "    #Se introduce una condición para que el bucle deje de generar preguntas si se llega al límite de aciertos o se llega al límite de fallos. \n",
    "    if contador_aciertos == limite_aciertos or contador_fallos == limite_fallos:\n",
    "        break        "
   ]
  }
 ],
 "metadata": {
  "kernelspec": {
   "display_name": "Python 3",
   "language": "python",
   "name": "python3"
  },
  "language_info": {
   "codemirror_mode": {
    "name": "ipython",
    "version": 3
   },
   "file_extension": ".py",
   "mimetype": "text/x-python",
   "name": "python",
   "nbconvert_exporter": "python",
   "pygments_lexer": "ipython3",
   "version": "3.9.6"
  }
 },
 "nbformat": 4,
 "nbformat_minor": 2
}
