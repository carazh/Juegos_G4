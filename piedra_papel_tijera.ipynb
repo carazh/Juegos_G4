{
 "cells": [
  {
   "cell_type": "code",
   "execution_count": 2,
   "metadata": {},
   "outputs": [
    {
     "name": "stdout",
     "output_type": "stream",
     "text": [
      "El usuario 1 eligio papel\n",
      "El usuario 2 eligio piedra\n"
     ]
    }
   ],
   "source": [
    "# prueba no valida\n",
    "import random\n",
    "\n",
    "def jugar():\n",
    "  opciones = ['piedra', 'papel', 'tijera']\n",
    "\n",
    " #eleccion del jugador\n",
    "\n",
    "eleccion_usuario1 = input(\"elige piedra, papel o tijera:\").lower()\n",
    "\n",
    "print(\"El usuario 1 eligio\", eleccion_usuario1)\n",
    "\n",
    "#validar juego\n",
    "\n",
    "#while eleccion_jugador not in jugar.opciones:\n",
    "# eleccion_jugador = input(\"opcion no valida. Elige piedra, papel o tijera: \").lower()\n",
    "\n",
    "#eleccion usario\n",
    "\n",
    "eleccion_usuario2 = input(\"elige piedra, papel o tijera:\").lower()\n",
    "\n",
    "\n",
    "print(\"El usuario 2 eligio\", eleccion_usuario2)\n",
    "\n",
    "\n",
    "\n",
    "\n",
    "  "
   ]
  },
  {
   "cell_type": "code",
   "execution_count": 5,
   "metadata": {},
   "outputs": [],
   "source": [
    "#definir juego\n",
    "puntos_para_ganar = 3\n",
    "\n",
    "\n"
   ]
  },
  {
   "cell_type": "code",
   "execution_count": 8,
   "metadata": {},
   "outputs": [],
   "source": [
    "#crear una funcion que obtenga y valide las opciones de juego\n",
    "def obtener_eleccion_jugador(): \n",
    "  opciones = ['piedra', 'papel', 'tijera'] \n",
    "\n",
    "  eleccion_usuario = input(\"te toca jugar , piedra, papel o tijera\" )\n",
    "  eleccion_valida = eleccion_usuario in opciones\n",
    "\n",
    "  if eleccion_valida == True:\n",
    "    return eleccion_usuario\n",
    "  \n",
    "  else:\n",
    "    print(\"esa palabra esta incorrecta\")\n",
    "\n",
    "    \n",
    "\n",
    "\n",
    "\n"
   ]
  },
  {
   "cell_type": "code",
   "execution_count": null,
   "metadata": {},
   "outputs": [],
   "source": [
    "#"
   ]
  },
  {
   "cell_type": "code",
   "execution_count": 3,
   "metadata": {},
   "outputs": [
    {
     "ename": "NameError",
     "evalue": "name 'eleccion_jugador' is not defined",
     "output_type": "error",
     "traceback": [
      "\u001b[1;31m---------------------------------------------------------------------------\u001b[0m",
      "\u001b[1;31mNameError\u001b[0m                                 Traceback (most recent call last)",
      "Cell \u001b[1;32mIn[3], line 1\u001b[0m\n\u001b[1;32m----> 1\u001b[0m \u001b[38;5;28;01mwhile\u001b[39;00m \u001b[43meleccion_jugador\u001b[49m \u001b[38;5;129;01mnot\u001b[39;00m \u001b[38;5;129;01min\u001b[39;00m jugar\u001b[38;5;241m.\u001b[39mopciones:\n\u001b[0;32m      2\u001b[0m      eleccion_jugador \u001b[38;5;241m=\u001b[39m \u001b[38;5;28minput\u001b[39m(\u001b[38;5;124m\"\u001b[39m\u001b[38;5;124mopcion no valida. Elige piedra, papel o tijera: \u001b[39m\u001b[38;5;124m\"\u001b[39m)\u001b[38;5;241m.\u001b[39mlower() \n\u001b[0;32m      4\u001b[0m      eleccion_usuario1 \u001b[38;5;241m=\u001b[39m random\u001b[38;5;241m.\u001b[39mchoice(jugar\u001b[38;5;241m.\u001b[39mopciones)\n",
      "\u001b[1;31mNameError\u001b[0m: name 'eleccion_jugador' is not defined"
     ]
    }
   ],
   "source": [
    "while eleccion_jugador not in jugar.opciones:\n",
    "     eleccion_jugador = input(\"opcion no valida. Elige piedra, papel o tijera: \").lower() \n",
    "\n",
    "     eleccion_usuario1 = random.choice(jugar.opciones)"
   ]
  }
 ],
 "metadata": {
  "kernelspec": {
   "display_name": "Python 3",
   "language": "python",
   "name": "python3"
  },
  "language_info": {
   "codemirror_mode": {
    "name": "ipython",
    "version": 3
   },
   "file_extension": ".py",
   "mimetype": "text/x-python",
   "name": "python",
   "nbconvert_exporter": "python",
   "pygments_lexer": "ipython3",
   "version": "3.11.9"
  }
 },
 "nbformat": 4,
 "nbformat_minor": 2
}
