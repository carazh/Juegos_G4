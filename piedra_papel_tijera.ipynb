{
 "cells": [
  {
   "cell_type": "code",
   "execution_count": 30,
   "metadata": {},
   "outputs": [],
   "source": [
    "import random\n",
    "\n",
    "def jugar():\n",
    "  # Opciones a elegir.\n",
    "  opciones = ['piedra', 'papel', 'tijera']\n",
    "  # Contador de puntos\n",
    "  ptos_jugador = 0\n",
    "  ptos_computadora = 0\n",
    "  puntos_objetivo = 3\n",
    "  # Es el bucle para llevar registro de ptos y continuar el juego hasta que se alcancen los ptos objetivos = 3\n",
    "  # tambien se ha determinado el ganador de cada ronda\n",
    "  while ptos_jugador < puntos_objetivo and ptos_computadora < puntos_objetivo:\n",
    "      jugador = input(\"elige piedra, papel o tijera:\").lower()\n",
    "      print(f\"El jugador eligió {jugador}\")\n",
    "      computadora = random.choice(opciones)\n",
    "      print(f\"La computadora eligió {computadora}\")\n",
    "      resultado = 0\n",
    "      # Comparador de elecciones para determinar si el jugador gana la ronda\n",
    "      if jugador == computadora:\n",
    "        print(\"es un empate!\")\n",
    "      elif (jugador == 'piedra' and computadora == 'tijera') or \\\n",
    "        (jugador == 'papel' and computadora == 'piedra') or \\\n",
    "        (jugador == 'tijera' and computadora == 'papel'):\n",
    "          print(\"¡Ganaste esta ronda!\")\n",
    "          ptos_jugador +=1\n",
    "      else:\n",
    "          print(\"¡Perdiste! La computadora gana esta ronda\")\n",
    "          ptos_computadora +=1\n",
    "          # break. Este break no debería ir para que siga el bucle.\n",
    "      # Determinar quien gana el juego. El primero que llegue a 3 puntos.\n",
    "      if ptos_jugador == puntos_objetivo:\n",
    "        print(\"HAS GANADO\")\n",
    "        break\n",
    "      elif ptos_computadora == puntos_objetivo:\n",
    "        print(\"HA GANADO LA COMPUTADORA\")\n",
    "        break"
   ]
  },
  {
   "cell_type": "code",
   "execution_count": 31,
   "metadata": {},
   "outputs": [
    {
     "name": "stdout",
     "output_type": "stream",
     "text": [
      "El jugador eligió tijera\n",
      "La computadora eligió piedra\n",
      "¡Perdiste! La computadora gana esta ronda\n",
      "El jugador eligió tijera\n",
      "La computadora eligió papel\n",
      "¡Ganaste esta ronda!\n",
      "El jugador eligió tijera\n",
      "La computadora eligió piedra\n",
      "¡Perdiste! La computadora gana esta ronda\n",
      "El jugador eligió tijera\n",
      "La computadora eligió tijera\n",
      "es un empate!\n",
      "El jugador eligió tijera\n",
      "La computadora eligió tijera\n",
      "es un empate!\n",
      "El jugador eligió tijera\n",
      "La computadora eligió papel\n",
      "¡Ganaste esta ronda!\n",
      "El jugador eligió tijera\n",
      "La computadora eligió piedra\n",
      "¡Perdiste! La computadora gana esta ronda\n",
      "HA GANADO LA COMPUTADORA\n"
     ]
    }
   ],
   "source": [
    "jugar()"
   ]
  }
 ],
 "metadata": {
  "kernelspec": {
   "display_name": "Python 3",
   "language": "python",
   "name": "python3"
  },
  "language_info": {
   "codemirror_mode": {
    "name": "ipython",
    "version": 3
   },
   "file_extension": ".py",
   "mimetype": "text/x-python",
   "name": "python",
   "nbconvert_exporter": "python",
   "pygments_lexer": "ipython3",
   "version": "3.9.6"
  }
 },
 "nbformat": 4,
 "nbformat_minor": 2
}
